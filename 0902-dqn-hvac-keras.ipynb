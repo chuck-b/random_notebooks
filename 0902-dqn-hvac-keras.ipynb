{
 "cells": [
  {
   "cell_type": "code",
   "execution_count": 1,
   "metadata": {},
   "outputs": [
    {
     "name": "stdout",
     "output_type": "stream",
     "text": [
      "Wed  2 Sep 2020 16:08:55 EDT\n"
     ]
    }
   ],
   "source": [
    "!date"
   ]
  },
  {
   "cell_type": "code",
   "execution_count": 14,
   "metadata": {},
   "outputs": [],
   "source": [
    "import pandas as pd\n",
    "import matplotlib.pyplot as plt"
   ]
  },
  {
   "cell_type": "markdown",
   "metadata": {},
   "source": [
    "# Step 1 - Load Existing Data"
   ]
  },
  {
   "cell_type": "code",
   "execution_count": 44,
   "metadata": {},
   "outputs": [
    {
     "data": {
      "text/html": [
       "<div>\n",
       "<style scoped>\n",
       "    .dataframe tbody tr th:only-of-type {\n",
       "        vertical-align: middle;\n",
       "    }\n",
       "\n",
       "    .dataframe tbody tr th {\n",
       "        vertical-align: top;\n",
       "    }\n",
       "\n",
       "    .dataframe thead th {\n",
       "        text-align: right;\n",
       "    }\n",
       "</style>\n",
       "<table border=\"1\" class=\"dataframe\">\n",
       "  <thead>\n",
       "    <tr style=\"text-align: right;\">\n",
       "      <th></th>\n",
       "      <th>s_tin_t</th>\n",
       "      <th>a_t_heat</th>\n",
       "      <th>a_t_cool</th>\n",
       "      <th>s_tin_t+1</th>\n",
       "      <th>s_tout_t</th>\n",
       "      <th>r_discomfort_t</th>\n",
       "      <th>s_heat_stp_delta_t</th>\n",
       "      <th>s_cool_stp_delta_t</th>\n",
       "      <th>s_heat_stp_delta_t+1</th>\n",
       "      <th>s_cool_stp_delta_t+1</th>\n",
       "      <th>r_t+1</th>\n",
       "      <th>a_t</th>\n",
       "    </tr>\n",
       "  </thead>\n",
       "  <tbody>\n",
       "    <tr>\n",
       "      <th>2017-01-01 00:15:00</th>\n",
       "      <td>20.1</td>\n",
       "      <td>1</td>\n",
       "      <td>0</td>\n",
       "      <td>20.5</td>\n",
       "      <td>-4</td>\n",
       "      <td>-2.094047</td>\n",
       "      <td>-1.0</td>\n",
       "      <td>-2.2</td>\n",
       "      <td>-0.6</td>\n",
       "      <td>-1.7</td>\n",
       "      <td>-2.122408</td>\n",
       "      <td>3</td>\n",
       "    </tr>\n",
       "    <tr>\n",
       "      <th>2017-01-01 00:20:00</th>\n",
       "      <td>20.5</td>\n",
       "      <td>1</td>\n",
       "      <td>0</td>\n",
       "      <td>21.2</td>\n",
       "      <td>-6</td>\n",
       "      <td>-1.122408</td>\n",
       "      <td>-0.6</td>\n",
       "      <td>-1.7</td>\n",
       "      <td>0.1</td>\n",
       "      <td>-1.0</td>\n",
       "      <td>-1.000000</td>\n",
       "      <td>3</td>\n",
       "    </tr>\n",
       "    <tr>\n",
       "      <th>2017-01-01 00:25:00</th>\n",
       "      <td>21.2</td>\n",
       "      <td>0</td>\n",
       "      <td>0</td>\n",
       "      <td>21.1</td>\n",
       "      <td>-6</td>\n",
       "      <td>-0.000000</td>\n",
       "      <td>0.1</td>\n",
       "      <td>-1.0</td>\n",
       "      <td>-0.0</td>\n",
       "      <td>-1.1</td>\n",
       "      <td>-0.077604</td>\n",
       "      <td>1</td>\n",
       "    </tr>\n",
       "    <tr>\n",
       "      <th>2017-01-01 00:30:00</th>\n",
       "      <td>21.1</td>\n",
       "      <td>0</td>\n",
       "      <td>0</td>\n",
       "      <td>20.7</td>\n",
       "      <td>-6</td>\n",
       "      <td>-0.077604</td>\n",
       "      <td>-0.0</td>\n",
       "      <td>-1.1</td>\n",
       "      <td>-0.4</td>\n",
       "      <td>-1.5</td>\n",
       "      <td>-0.844826</td>\n",
       "      <td>1</td>\n",
       "    </tr>\n",
       "    <tr>\n",
       "      <th>2017-01-01 00:35:00</th>\n",
       "      <td>20.7</td>\n",
       "      <td>0</td>\n",
       "      <td>0</td>\n",
       "      <td>19.9</td>\n",
       "      <td>-6</td>\n",
       "      <td>-0.844826</td>\n",
       "      <td>-0.4</td>\n",
       "      <td>-1.5</td>\n",
       "      <td>-1.2</td>\n",
       "      <td>-2.3</td>\n",
       "      <td>-2.344889</td>\n",
       "      <td>1</td>\n",
       "    </tr>\n",
       "  </tbody>\n",
       "</table>\n",
       "</div>"
      ],
      "text/plain": [
       "                     s_tin_t  a_t_heat  a_t_cool  s_tin_t+1  s_tout_t  \\\n",
       "2017-01-01 00:15:00     20.1         1         0       20.5        -4   \n",
       "2017-01-01 00:20:00     20.5         1         0       21.2        -6   \n",
       "2017-01-01 00:25:00     21.2         0         0       21.1        -6   \n",
       "2017-01-01 00:30:00     21.1         0         0       20.7        -6   \n",
       "2017-01-01 00:35:00     20.7         0         0       19.9        -6   \n",
       "\n",
       "                     r_discomfort_t  s_heat_stp_delta_t  s_cool_stp_delta_t  \\\n",
       "2017-01-01 00:15:00       -2.094047                -1.0                -2.2   \n",
       "2017-01-01 00:20:00       -1.122408                -0.6                -1.7   \n",
       "2017-01-01 00:25:00       -0.000000                 0.1                -1.0   \n",
       "2017-01-01 00:30:00       -0.077604                -0.0                -1.1   \n",
       "2017-01-01 00:35:00       -0.844826                -0.4                -1.5   \n",
       "\n",
       "                     s_heat_stp_delta_t+1  s_cool_stp_delta_t+1     r_t+1  a_t  \n",
       "2017-01-01 00:15:00                  -0.6                  -1.7 -2.122408    3  \n",
       "2017-01-01 00:20:00                   0.1                  -1.0 -1.000000    3  \n",
       "2017-01-01 00:25:00                  -0.0                  -1.1 -0.077604    1  \n",
       "2017-01-01 00:30:00                  -0.4                  -1.5 -0.844826    1  \n",
       "2017-01-01 00:35:00                  -1.2                  -2.3 -2.344889    1  "
      ]
     },
     "execution_count": 44,
     "metadata": {},
     "output_type": "execute_result"
    }
   ],
   "source": [
    "df_sars = pd.read_csv('./sample-data-whole-year-sars.csv', index_col=0, parse_dates = True)\n",
    "df_sars.head()"
   ]
  },
  {
   "cell_type": "markdown",
   "metadata": {},
   "source": [
    "## Context\n",
    "\n",
    "**state = (s_heat_stp_delta_t, s_cool_stp_delta_t)**\n",
    "\n",
    "which are the differences between th setpoints and the indoor air temperature\n",
    "\n",
    "**action = a_t**\n",
    "\n",
    "which is off, cooling, heating enumerated as 1,2,3\n",
    "\n",
    "**rewared = r_t+1** \n",
    "\n",
    "which is the combination of needing to use runtime (a = 2 or 3) and discomfort thermally from the next state "
   ]
  },
  {
   "cell_type": "code",
   "execution_count": 45,
   "metadata": {},
   "outputs": [
    {
     "name": "stdout",
     "output_type": "stream",
     "text": [
      "(4317, 12)\n"
     ]
    }
   ],
   "source": [
    "# build the training set\n",
    "df_training = df_sars['2017-01-01':'2017-01-15']\n",
    "print(df_training.shape)"
   ]
  },
  {
   "cell_type": "code",
   "execution_count": 46,
   "metadata": {},
   "outputs": [
    {
     "data": {
      "text/plain": [
       "Text(0, 0.5, 'count')"
      ]
     },
     "execution_count": 46,
     "metadata": {},
     "output_type": "execute_result"
    },
    {
     "data": {
      "image/png": "[encoded data removed]",
      "text/plain": [
       "<Figure size 1080x360 with 1 Axes>"
      ]
     },
     "metadata": {
      "needs_background": "light"
     },
     "output_type": "display_data"
    }
   ],
   "source": [
    "df_training['r_t+1'].hist(bins=20, figsize=(15,5))\n",
    "plt.xlabel('r_t+1')\n",
    "plt.ylabel('count')"
   ]
  },
  {
   "cell_type": "code",
   "execution_count": 47,
   "metadata": {},
   "outputs": [
    {
     "data": {
      "text/plain": [
       "1    2548\n",
       "3    1769\n",
       "Name: a_t, dtype: int64"
      ]
     },
     "execution_count": 47,
     "metadata": {},
     "output_type": "execute_result"
    }
   ],
   "source": [
    "# which states did we see in this training period.\n",
    "# note - state 2 not observed (makes sense this is cooling)\n",
    "df_training['a_t'].value_counts()"
   ]
  },
  {
   "cell_type": "markdown",
   "metadata": {},
   "source": [
    "# Step 2 - Initalize the DQN stuff"
   ]
  },
  {
   "cell_type": "code",
   "execution_count": 16,
   "metadata": {},
   "outputs": [],
   "source": [
    "import random\n",
    "import os\n",
    "import numpy as np\n",
    "from collections import deque\n",
    "from tensorflow.keras.models import Sequential\n",
    "from tensorflow.keras.layers import Dense\n",
    "from tensorflow.keras.optimizers import Adam"
   ]
  },
  {
   "cell_type": "code",
   "execution_count": 24,
   "metadata": {},
   "outputs": [],
   "source": [
    "class Agent():\n",
    "    def __init__(self, state_size, action_size):\n",
    "        self.state_size = state_size\n",
    "        self.action_size = action_size\n",
    "        self.memory = deque(maxlen=20000)\n",
    "        self.learning_rate = 0.001\n",
    "        self.gamma = 0.95\n",
    "        self.model = self._build_model()\n",
    "\n",
    "    def _build_model(self):\n",
    "        # Neural Net for Deep-Q learning Model\n",
    "        model = Sequential()\n",
    "        model.add(Dense(24, input_dim=self.state_size, activation='relu'))\n",
    "        model.add(Dense(self.action_size, activation='linear'))\n",
    "        model.compile(loss='mse', optimizer=Adam(lr=self.learning_rate))\n",
    "        return model\n",
    "\n",
    "    def remember(self, state, action, reward, next_state, done):\n",
    "        self.memory.append((state, action, reward, next_state, done))\n",
    "\n",
    "    def replay(self, sample_batch_size):\n",
    "        if len(self.memory) < sample_batch_size:\n",
    "            return\n",
    "        sample_batch = random.sample(self.memory, sample_batch_size)\n",
    "        for state, action, reward, next_state, done in sample_batch:\n",
    "            target = reward\n",
    "            if not done:\n",
    "                target = reward + self.gamma * np.amax(self.model.predict(next_state.reshape(-1,self.state_size)))\n",
    "            target_f = self.model.predict(state.reshape(-1,self.state_size))\n",
    "            target_f[0][action] = target\n",
    "            self.model.fit(state.reshape(-1,self.state_size), target_f, epochs=1, verbose=0)\n"
   ]
  },
  {
   "cell_type": "code",
   "execution_count": 25,
   "metadata": {},
   "outputs": [
    {
     "name": "stdout",
     "output_type": "stream",
     "text": [
      "Model: \"sequential_1\"\n",
      "_________________________________________________________________\n",
      "Layer (type)                 Output Shape              Param #   \n",
      "=================================================================\n",
      "dense_2 (Dense)              (None, 24)                72        \n",
      "_________________________________________________________________\n",
      "dense_3 (Dense)              (None, 3)                 75        \n",
      "=================================================================\n",
      "Total params: 147\n",
      "Trainable params: 147\n",
      "Non-trainable params: 0\n",
      "_________________________________________________________________\n"
     ]
    }
   ],
   "source": [
    "state_size = 2\n",
    "action_size = 3\n",
    "agent = Agent(state_size, action_size)\n",
    "agent.model.summary()"
   ]
  },
  {
   "cell_type": "markdown",
   "metadata": {},
   "source": [
    "### Step 2a - load up the buffer"
   ]
  },
  {
   "cell_type": "code",
   "execution_count": 26,
   "metadata": {},
   "outputs": [],
   "source": [
    "# fill up the buffer\n",
    "for index, row in df_training.iterrows():\n",
    "    \n",
    "    state = np.array([row['s_heat_stp_delta_t'],row['s_cool_stp_delta_t']])\n",
    "    action =  int(row['a_t']-1)\n",
    "    reward = row['r_t+1']\n",
    "    next_state = np.array([row['s_heat_stp_delta_t+1'],row['s_cool_stp_delta_t+1']])\n",
    "    done = False\n",
    "    \n",
    "    # Clip all positive rewards at 1 and all negative rewards at -1, leaving 0 rewards unchanged\n",
    "    # reward = np.clip(reward, -1, 1)\n",
    "    \n",
    "    agent.remember(state, action, reward, next_state, done)"
   ]
  },
  {
   "cell_type": "markdown",
   "metadata": {},
   "source": [
    "### Step 2b - train the model"
   ]
  },
  {
   "cell_type": "code",
   "execution_count": 54,
   "metadata": {},
   "outputs": [],
   "source": [
    "sample_batch_size = 32\n",
    "episodes = 150\n",
    "\n",
    "# run N episodes of a certain batch size\n",
    "for _ in range(episodes):\n",
    "    agent.replay(sample_batch_size)"
   ]
  },
  {
   "cell_type": "markdown",
   "metadata": {},
   "source": [
    "# Step 3 - Predcition back over the test"
   ]
  },
  {
   "cell_type": "code",
   "execution_count": 69,
   "metadata": {},
   "outputs": [],
   "source": [
    "def _choose_action_based_on_q_vals(vals:np.array)->int:\n",
    "    return np.argmax(vals)\n",
    "\n",
    "def _choose_action_based_on_q_vals_with_filter(vals:np.array)->int:\n",
    "    \"getting some unwanted postive values for actions so filter out befor selecting\"\n",
    "    return np.where(vals == vals[vals <= 0].max())[0][0]\n"
   ]
  },
  {
   "cell_type": "code",
   "execution_count": 66,
   "metadata": {},
   "outputs": [],
   "source": [
    "for row, data in df_training.iterrows():\n",
    "    input_vals =  np.array([data[\"s_heat_stp_delta_t\"], data[\"s_cool_stp_delta_t\"]]).reshape(-1,2)\n",
    "    q_vals = agent.model.predict(input_vals)\n",
    "    best_val = _choose_action_based_on_q_vals(q_vals[0])\n",
    "    df_training.at[row,'q_decision'] = best_val + 1\n",
    "    \n",
    "    best_val_filt = _choose_action_based_on_q_vals_with_filter(q_vals[0])\n",
    "    df_training.at[row,'q_decision_wfilt'] = best_val_filt + 1"
   ]
  },
  {
   "cell_type": "code",
   "execution_count": 67,
   "metadata": {},
   "outputs": [
    {
     "data": {
      "text/plain": [
       "2.0    4317\n",
       "Name: q_decision, dtype: int64"
      ]
     },
     "execution_count": 67,
     "metadata": {},
     "output_type": "execute_result"
    }
   ],
   "source": [
    "df_training['q_decision'].value_counts()"
   ]
  },
  {
   "cell_type": "code",
   "execution_count": 68,
   "metadata": {},
   "outputs": [
    {
     "data": {
      "text/plain": [
       "2.0    3920\n",
       "1.0     397\n",
       "Name: q_decision_wfilt, dtype: int64"
      ]
     },
     "execution_count": 68,
     "metadata": {},
     "output_type": "execute_result"
    }
   ],
   "source": [
    "df_training['q_decision_wfilt'].value_counts()"
   ]
  },
  {
   "cell_type": "markdown",
   "metadata": {},
   "source": [
    "#### Notes\n",
    "\n",
    "- would have hoped the q_decisions would match the deadband controls which generated the logged data but that doesnt seem to be happening\n",
    "- the fact that action 2 (cooling) is being selected is also troubling. This would never have been observed in training as it was trained using data from January. "
   ]
  },
  {
   "cell_type": "markdown",
   "metadata": {},
   "source": [
    "### Part 3a - how does this look around the whole year?"
   ]
  },
  {
   "cell_type": "code",
   "execution_count": 55,
   "metadata": {},
   "outputs": [],
   "source": [
    "def load_buffer(buffer, train_data:pd.DataFrame):\n",
    "    # fill up the buffer\n",
    "    for index, row in train_data.iterrows():\n",
    "        state = np.array([row['s_heat_stp_delta_t'],row['s_cool_stp_delta_t']])\n",
    "        action =  int(row['a_t']-1)\n",
    "        reward = row['r_t+1']\n",
    "        next_state = np.array([row['s_heat_stp_delta_t+1'],row['s_cool_stp_delta_t+1']])\n",
    "        done = False\n",
    "\n",
    "        # Clip all positive rewards at 1 and all negative rewards at -1, leaving 0 rewards unchanged\n",
    "        # reward = np.clip(reward, -1, 1)\n",
    "        buffer.remember(state, action, reward, next_state, done)\n",
    "\n",
    "def predict_back_on_train(train_data:pd.DataFrame, policy_net:Agent):\n",
    "    for row, _data in train_data.iterrows():\n",
    "        input_vals =  np.array([data[\"s_heat_stp_delta_t\"], data[\"s_cool_stp_delta_t\"]]).reshape(-1,2)\n",
    "        q_vals = policy_net.model.predict(input_vals)\n",
    "        \n",
    "        best_val = _choose_action_based_on_q_vals(q_vals[0])\n",
    "        train_data.at[row,'q_decision'] = best_val + 1\n",
    "\n",
    "        best_val_filt = _choose_action_based_on_q_vals_with_filter(q_vals[0])\n",
    "        train_data.at[row,'q_decision_wfilt'] = best_val_filt + 1\n",
    "    \n",
    "        \n",
    "def _sliding_q_table_training(df: pd.DataFrame):\n",
    "    hold_dfs = {}\n",
    "    for date, data in df.groupby(pd.Grouper(freq=\"SMS\", label=\"right\")):\n",
    "        if data.shape[0] > 500:  # to clip some rollover\n",
    "            dqn = Agent(state_size, action_size)\n",
    "            load_buffer(dqn, data)\n",
    "            for _ in range(episodes):\n",
    "                dqn.replay(sample_batch_size)\n",
    "                \n",
    "            predict_back_on_train(data, dqn)\n",
    "            hold_dfs[date] = data.copy()\n",
    "        print(\"Done\", date)\n",
    "    return hold_dfs"
   ]
  },
  {
   "cell_type": "code",
   "execution_count": 56,
   "metadata": {},
   "outputs": [
    {
     "name": "stdout",
     "output_type": "stream",
     "text": [
      "Done 2017-01-15 00:00:00\n",
      "Done 2017-02-01 00:00:00\n",
      "Done 2017-02-15 00:00:00\n",
      "Done 2017-03-01 00:00:00\n",
      "Done 2017-03-15 00:00:00\n",
      "Done 2017-04-01 00:00:00\n",
      "Done 2017-04-15 00:00:00\n",
      "Done 2017-05-01 00:00:00\n",
      "Done 2017-05-15 00:00:00\n",
      "Done 2017-06-01 00:00:00\n",
      "Done 2017-06-15 00:00:00\n",
      "Done 2017-07-01 00:00:00\n",
      "Done 2017-07-15 00:00:00\n",
      "Done 2017-08-01 00:00:00\n",
      "Done 2017-08-15 00:00:00\n",
      "Done 2017-09-01 00:00:00\n",
      "Done 2017-09-15 00:00:00\n",
      "Done 2017-10-01 00:00:00\n",
      "Done 2017-10-15 00:00:00\n",
      "Done 2017-11-01 00:00:00\n",
      "Done 2017-11-15 00:00:00\n",
      "Done 2017-12-01 00:00:00\n",
      "Done 2017-12-15 00:00:00\n",
      "Done 2018-01-01 00:00:00\n",
      "Done 2018-01-15 00:00:00\n"
     ]
    }
   ],
   "source": [
    "# warning this is slow...\n",
    "result_dict = _sliding_q_table_training(df_sars)"
   ]
  },
  {
   "cell_type": "code",
   "execution_count": 63,
   "metadata": {},
   "outputs": [
    {
     "data": {
      "text/plain": [
       "Text(0.5, 0.98, 'Predict back on training data')"
      ]
     },
     "execution_count": 63,
     "metadata": {},
     "output_type": "execute_result"
    },
    {
     "data": {
      "image/png": "[encoded data removed]",
      "text/plain": [
       "<Figure size 1080x720 with 24 Axes>"
      ]
     },
     "metadata": {
      "needs_background": "light"
     },
     "output_type": "display_data"
    }
   ],
   "source": [
    "fig, ax = plt.subplots(4,6,figsize=(15,10), sharex=True, sharey=True)\n",
    "flat_ax = ax.flatten()\n",
    "for i, (key, value) in enumerate(result_dict.items()):\n",
    "    df_temp = pd.DataFrame(index=[1,2,3])\n",
    "    df_temp = df_temp.join(value['a_t'].value_counts()).join(value['q_decision'].value_counts()).fillna(0)\n",
    "    df_temp.plot(kind='barh', ax=flat_ax[i], legend=False)\n",
    "    flat_ax[i].set_yticklabels(['off','cool','heat'])\n",
    "    flat_ax[i].text(3700,2,key.strftime(\"%m/%d\"),fontsize=11)\n",
    "plt.legend(bbox_to_anchor=(1.05, 1), loc='upper left')\n",
    "fig.text(0.5, 0.04, 'count', ha='center', fontsize=16)\n",
    "plt.suptitle('Predict back on training data')"
   ]
  },
  {
   "cell_type": "code",
   "execution_count": null,
   "metadata": {},
   "outputs": [],
   "source": []
  },
  {
   "cell_type": "code",
   "execution_count": null,
   "metadata": {},
   "outputs": [],
   "source": []
  }
 ],
 "metadata": {
  "kernelspec": {
   "display_name": "Python 3",
   "language": "python",
   "name": "python3"
  },
  "language_info": {
   "codemirror_mode": {
    "name": "ipython",
    "version": 3
   },
   "file_extension": ".py",
   "mimetype": "text/x-python",
   "name": "python",
   "nbconvert_exporter": "python",
   "pygments_lexer": "ipython3",
   "version": "3.7.7"
  }
 },
 "nbformat": 4,
 "nbformat_minor": 4
}
