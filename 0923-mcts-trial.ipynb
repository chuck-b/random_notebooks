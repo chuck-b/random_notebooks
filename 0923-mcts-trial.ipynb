{
 "cells": [
  {
   "cell_type": "code",
   "execution_count": 1,
   "metadata": {},
   "outputs": [
    {
     "name": "stdout",
     "output_type": "stream",
     "text": [
      "Thu 24 Sep 2020 13:11:09 EDT\n"
     ]
    }
   ],
   "source": [
    "!date"
   ]
  },
  {
   "cell_type": "code",
   "execution_count": 2,
   "metadata": {},
   "outputs": [
    {
     "name": "stdout",
     "output_type": "stream",
     "text": [
      "/Users/chuck/.virtualenvs/residential_testbed-_oHoZWcN/bin/python\n"
     ]
    }
   ],
   "source": [
    "!which python"
   ]
  },
  {
   "cell_type": "code",
   "execution_count": 3,
   "metadata": {},
   "outputs": [],
   "source": [
    "%load_ext autotime"
   ]
  },
  {
   "cell_type": "code",
   "execution_count": 4,
   "metadata": {},
   "outputs": [
    {
     "name": "stdout",
     "output_type": "stream",
     "text": [
      "time: 2.11 s\n"
     ]
    }
   ],
   "source": [
    "import numpy as np\n",
    "import matplotlib.pyplot as plt"
   ]
  },
  {
   "cell_type": "code",
   "execution_count": 5,
   "metadata": {},
   "outputs": [
    {
     "name": "stdout",
     "output_type": "stream",
     "text": [
      "time: 590 µs\n"
     ]
    }
   ],
   "source": [
    "# stole these from an actual model\n",
    "model_params = {'site_air_temp_lb0': -0.07705090827283811,\n",
    " 'site_air_temp_lb1': 0.0868922241344876,\n",
    " 'site_direct_solar_lb0': -0.0001144392615515244,\n",
    " 'site_direct_solar_lb1': 0.0001809371597119025,\n",
    " 'sensible_heating_bool_lb0': 0.668022493564159,\n",
    " 'sensible_heating_bool_lb1': -0.1212789391296738,\n",
    " 'sensible_cooling_bool_lb0': 0.0,\n",
    " 'sensible_cooling_bool_lb1': 0.0,\n",
    " 'zone_mean_air_temp_lb0': 0.9534713323209267,\n",
    " 'zone_mean_air_temp_lb1': 0.014742719358824985,\n",
    " 'intercept': 0.40977951}"
   ]
  },
  {
   "cell_type": "code",
   "execution_count": 6,
   "metadata": {},
   "outputs": [
    {
     "name": "stdout",
     "output_type": "stream",
     "text": [
      "time: 6.44 ms\n"
     ]
    }
   ],
   "source": [
    "ar_order = 2 \n",
    "history_lb = ar_order -1 # this gets used a fair bit \n",
    "horizon = 72 # prediction horizion"
   ]
  },
  {
   "cell_type": "code",
   "execution_count": 7,
   "metadata": {},
   "outputs": [
    {
     "name": "stdout",
     "output_type": "stream",
     "text": [
      "time: 3.23 ms\n"
     ]
    }
   ],
   "source": [
    "# real tout for 6 hours\n",
    "tout = [0.5, -0.09999999999999988, -0.6999999999999998, -1.3, -1.9, -2.5, -3.1, -3.7, -4.299999999999999, -4.9, -5.499999999999999, -6.1, -5.958333333333332, -5.816666666666666, -5.674999999999999, -5.533333333333334, -5.3916666666666675, -5.25, -5.1083333333333325, -4.966666666666667, -4.825, -4.683333333333334, -4.541666666666667, -4.4, -4.4, -4.4, -4.4, -4.4, -4.4, -4.4, -4.4, -4.4, -4.4, -4.4, -4.4, -4.4, -4.541666666666666, -4.683333333333334, -4.825, -4.966666666666667, -5.1083333333333325, -5.25, -5.391666666666668, -5.533333333333332, -5.674999999999999, -5.816666666666666, -5.958333333333332, -6.1, -6.008333333333333, -5.916666666666666, -5.8249999999999975, -5.7333333333333325, -5.6416666666666675, -5.55, -5.458333333333332, -5.366666666666667, -5.275, -5.183333333333334, -5.091666666666667, -5.0, -5.091666666666667, -5.183333333333334, -5.275, -5.366666666666667, -5.458333333333332, -5.55, -5.641666666666668, -5.7333333333333325, -5.8249999999999975, -5.916666666666666, -6.008333333333333, -6.1, -6.1916666666666655]\n",
    "\n",
    "# no solar for now\n",
    "solar = [0 for x in range(len(tout))]\n",
    "\n",
    "# some made up setpoints with transitions\n",
    "heat_stp = [19.0, 19.0, 19.0, 19.0, 19.0, 19.0, 19.0, 19.0, 19.0, 19.0, 19.0, 19.0, 19.0, 19.0, 19.0, 19.0, 19.0, 19.0, 19.0, 19.0, 16.67, 16.67, 16.67, 16.67, 16.67, 16.67, 16.67, 16.67, 16.67, 16.67, 19.0, 19.0, 19.0, 19.0, 19.0, 19.0, 19.0, 19.0, 19.0, 19.0, 16.67, 16.67, 16.67, 16.67, 16.67, 16.67, 16.67, 16.67, 16.67, 16.67, 16.67, 16.67, 16.67, 16.67, 16.67, 19.0, 19.0, 19.0, 19.0, 19.0, 19.0, 19.0, 19.0, 19.0, 19.0, 19.0, 19.0, 19.0, 19.0, 19.0, 19.0, 19.0, 19.0]\n",
    "\n",
    "cool_stp = [23.89, 23.89, 23.89, 23.89, 23.89, 23.89, 23.89, 23.89, 23.89, 23.89, 23.89, 23.89, 23.89, 23.89, 23.89, 23.89, 23.89, 23.89, 23.89, 23.89, 23.89, 23.89, 23.89, 23.89, 23.89, 23.89, 23.89, 23.89, 23.89, 23.89, 23.89, 23.89, 23.89, 23.89, 23.89, 23.89, 23.89, 23.89, 23.89, 23.89, 23.89, 23.89, 23.89, 23.89, 23.89, 23.89, 23.89, 23.89, 23.89, 23.89, 23.89, 23.89, 23.89, 23.89, 23.89, 23.89, 23.89, 23.89, 23.89, 23.89, 23.89, 23.89, 23.89, 23.89, 23.89, 23.89, 23.89, 23.89, 23.89, 23.89, 23.89, 23.89, 23.89]"
   ]
  },
  {
   "cell_type": "code",
   "execution_count": 8,
   "metadata": {},
   "outputs": [
    {
     "data": {
      "text/plain": [
       "Text(0, 0.5, 'Temp [oC]')"
      ]
     },
     "execution_count": 8,
     "metadata": {},
     "output_type": "execute_result"
    },
    {
     "data": {
      "image/png": "[encoded data removed]",
      "text/plain": [
       "<Figure size 432x288 with 1 Axes>"
      ]
     },
     "metadata": {
      "needs_background": "light"
     },
     "output_type": "display_data"
    },
    {
     "name": "stdout",
     "output_type": "stream",
     "text": [
      "time: 372 ms\n"
     ]
    }
   ],
   "source": [
    "plt.plot(heat_stp,'--r')\n",
    "plt.plot(cool_stp, '--b')\n",
    "plt.xlabel('timestep')\n",
    "plt.ylabel('Temp [oC]')"
   ]
  },
  {
   "cell_type": "code",
   "execution_count": 9,
   "metadata": {},
   "outputs": [
    {
     "name": "stdout",
     "output_type": "stream",
     "text": [
      "time: 558 µs\n"
     ]
    }
   ],
   "source": [
    "# some made up intial conditions in the form [t, t+1]\n",
    "temp_init = [22.0, 22.8]\n",
    "heat_init = [0,0]\n",
    "cool_init = [0,0]\n",
    "# this means our first temperature prediction is for t+2"
   ]
  },
  {
   "cell_type": "code",
   "execution_count": 10,
   "metadata": {},
   "outputs": [
    {
     "name": "stdout",
     "output_type": "stream",
     "text": [
      "0.46093071289452764\n",
      "0.45502592337753794\n",
      "0.44912113386054825\n",
      "0.4432163443435585\n",
      "0.43731155482656886\n",
      "0.43140676530957917\n",
      "0.42550197579258947\n",
      "0.41959718627559967\n",
      "0.4136923967586102\n",
      "time: 2.64 ms\n"
     ]
    }
   ],
   "source": [
    "# what is the natural decay curve?\n",
    "t_natural_decay = np.zeros(horizon+history_lb)\n",
    "heat_state = np.zeros(horizon+history_lb)\n",
    "cool_state = np.zeros(horizon+history_lb)\n",
    "\n",
    "t_natural_decay[:2] = temp_init\n",
    "heat_state[:2] = heat_init\n",
    "heat_state[:2] = cool_init\n",
    "    \n",
    "for t in range(history_lb, horizon):                      \n",
    "    t_natural_decay[t+1] = model_params['zone_mean_air_temp_lb0']*t_natural_decay[t] + model_params['zone_mean_air_temp_lb1']*t_natural_decay[t-1] \\\n",
    "        + model_params['sensible_heating_bool_lb0']*heat_state[t] + model_params['sensible_heating_bool_lb1']*heat_state[t-1] + model_params['sensible_cooling_bool_lb0']*cool_state[t] \\\n",
    "        + model_params['sensible_cooling_bool_lb1']*cool_state[t-1] + model_params['site_air_temp_lb0']*tout[t] + model_params['site_air_temp_lb1']*tout[t-1] \\\n",
    "        + model_params['site_direct_solar_lb0']*solar[t] + model_params['site_direct_solar_lb1']*solar[t-1] + model_params['intercept']\n",
    "    \n",
    "    if t<10:\n",
    "        print(model_params['site_air_temp_lb0']*tout[t] + model_params['site_air_temp_lb1']*tout[t-1] \\\n",
    "            + model_params['site_direct_solar_lb0']*solar[t] + model_params['site_direct_solar_lb1']*solar[t-1] + model_params['intercept'])"
   ]
  },
  {
   "cell_type": "code",
   "execution_count": 235,
   "metadata": {},
   "outputs": [
    {
     "data": {
      "text/plain": [
       "Text(0.5, 0, 'timestep')"
      ]
     },
     "execution_count": 235,
     "metadata": {},
     "output_type": "execute_result"
    },
    {
     "data": {
      "image/png": "[encoded data removed]",
      "text/plain": [
       "<Figure size 432x288 with 1 Axes>"
      ]
     },
     "metadata": {
      "needs_background": "light"
     },
     "output_type": "display_data"
    },
    {
     "name": "stdout",
     "output_type": "stream",
     "text": [
      "time: 366 ms\n"
     ]
    }
   ],
   "source": [
    "plt.plot(t_natural_decay,'-g', label=\"free cooling\")\n",
    "plt.plot(cool_stp, '--b', label=\"cooling setpoint\")\n",
    "plt.plot(heat_stp,'--4', label='heat setpoint')\n",
    "plt.legend()\n",
    "plt.ylabel('Temp')\n",
    "plt.xlabel('timestep')"
   ]
  },
  {
   "cell_type": "markdown",
   "metadata": {},
   "source": [
    "# Ok lets see how this goes with MCTS\n",
    "\n",
    "- modified from the pip mcts package"
   ]
  },
  {
   "cell_type": "code",
   "execution_count": 12,
   "metadata": {},
   "outputs": [
    {
     "name": "stdout",
     "output_type": "stream",
     "text": [
      "time: 541 µs\n"
     ]
    }
   ],
   "source": [
    "import time\n",
    "import math\n",
    "import random\n",
    "from collections import deque\n",
    "from copy import deepcopy\n",
    "\n"
   ]
  },
  {
   "cell_type": "code",
   "execution_count": 207,
   "metadata": {},
   "outputs": [
    {
     "name": "stdout",
     "output_type": "stream",
     "text": [
      "time: 5.28 ms\n"
     ]
    }
   ],
   "source": [
    "ar_size = 2\n",
    "\n",
    "# def random_policy(state):\n",
    "#     while not state.is_terminal():\n",
    "#         try:\n",
    "#             action = random.choice(state.get_possible_actions())\n",
    "#         except IndexError:\n",
    "#             raise Exception(\"Non-terminal state has no possible actions: \" + str(state))\n",
    "#         state = state.take_action(action)\n",
    "#     return state.get_reward()\n",
    "\n",
    "\n",
    "class Node():\n",
    "    def __init__(self, state, parent):\n",
    "        self.state = state\n",
    "        self.is_terminal = state.is_terminal()\n",
    "        self.is_fully_expanded = self.is_terminal\n",
    "        \n",
    "        self.parent = parent\n",
    "        self.creation_action = None\n",
    "        \n",
    "        self.num_visits = 0\n",
    "        self.total_reward = 0\n",
    "        self.children = {}\n",
    "        \n",
    "        \n",
    "    def __str__(self):\n",
    "        if self.parent != None:\n",
    "            parent_name = self.parent.state.depth\n",
    "        else:\n",
    "            parent_name = 'root'\n",
    "        return f\"Node {self.state.depth} - Parent {parent_name} - Action {self.creation_action}\"\n",
    "    \n",
    "    def name(self):\n",
    "        if self.parent != None:\n",
    "            parent_name = self.parent.state.depth\n",
    "        else:\n",
    "            parent_name = 'root'\n",
    "        return f\"{parent_name}/{self.state.depth}-{self.creation_action}\"\n",
    "    \n",
    "        \n",
    "class home_state():\n",
    "    def __init__(self, ar_order, coefficients, tout, solar, tsp_heat, tsp_cool):\n",
    "        \n",
    "        self.ar_order = ar_order\n",
    "        self.model_coefficients = coefficients\n",
    "        \n",
    "        self.tin_history = deque(maxlen=self.ar_order)\n",
    "        \n",
    "        # this will contain lb1 and lb0\n",
    "        self.heat_history = deque(maxlen=self.ar_order)\n",
    "        self.cool_history = deque(maxlen=self.ar_order)\n",
    "        \n",
    "        self.solar = solar\n",
    "        self.tout = tout\n",
    "        self.tsp_heat = tsp_heat\n",
    "        self.tsp_cool = tsp_cool\n",
    "        \n",
    "        self.depth = 0\n",
    "    \n",
    "    def intialize_caches(self, heat_hist, cool_hist, tin_hist):\n",
    "        self.tin_history.extend(tin_hist)\n",
    "        self.heat_history.extend(heat_hist)\n",
    "        self.cool_history.extend(cool_hist)\n",
    "        \n",
    "        \n",
    "    def get_possible_actions(self):\n",
    "        \n",
    "        possibleActions = [1]\n",
    "        # tout temperature lockout\n",
    "        if self.tout[self.depth] >=10:\n",
    "            possibleActions.append(2)\n",
    "        else:\n",
    "            possibleActions.append(3)\n",
    "        return possibleActions\n",
    "    \n",
    "#     def take_action(self, action):\n",
    "#         \"\"\"\n",
    "#         This is an update step..\n",
    "#         \"\"\"\n",
    "#         if action == 3:\n",
    "#             _heat = 1\n",
    "#             _cool = 0           \n",
    "#         elif action == 2:\n",
    "#             _heat = 0\n",
    "#             _cool = 1            \n",
    "#         else:\n",
    "#             _heat = 0\n",
    "#             _cool = 0\n",
    "        \n",
    "#         self.heat_history.append(_heat)\n",
    "#         self.cool_history.append(_cool)\n",
    "        \n",
    "#         tin_p1 = self._predict_temp()\n",
    "#         self.tin_history.append(tin_p1)\n",
    "    \n",
    "        \n",
    "#         new_state = deepcopy(self)\n",
    "#         # we have moved a step deeper in our prediction\n",
    "#         new_state.depth += 1 \n",
    "#         return new_state\n",
    "    \n",
    "    def take_action(self, action):\n",
    "        \"\"\"\n",
    "        This is an update step..\n",
    "        \"\"\"\n",
    "        if type(action) != int:\n",
    "            action = action[0]\n",
    "        if action == 3:\n",
    "            _heat = 1\n",
    "            _cool = 0           \n",
    "        elif action == 2:\n",
    "            _heat = 0\n",
    "            _cool = 1            \n",
    "        else:\n",
    "            _heat = 0\n",
    "            _cool = 0\n",
    "        \n",
    "        new_state = deepcopy(self)\n",
    "        new_state.heat_history.append(_heat)\n",
    "        new_state.cool_history.append(_cool)\n",
    "        \n",
    "        # we have moved a step deeper in our prediction\n",
    "        new_state.depth += 1 \n",
    "\n",
    "        tin_p1 = new_state._predict_temp()\n",
    "        new_state.tin_history.append(tin_p1)\n",
    "        #print(f\"Action: {action} heat {_heat} cool {_cool} Newstate heat {new_state.heat_history} cool{new_state.cool_history}\")\n",
    "        return new_state\n",
    "    \n",
    "    def _predict_temp(self):\n",
    "        t = self.depth\n",
    "        #if t==1:\n",
    "        #    print(\"*\"*50)\n",
    "\n",
    "        tin_p1 = self.model_coefficients[\"intercept\"]# add this back later[0]\n",
    "            \n",
    "        for lb in range(0, self.ar_order):\n",
    "            tin_p1 += (\n",
    "                self.model_coefficients[f\"zone_mean_air_temp_lb{lb}\"] * self.tin_history[-(lb+1)]\n",
    "            )\n",
    "            tin_p1 += (\n",
    "                self.model_coefficients[f\"sensible_heating_bool_lb{lb}\"]\n",
    "                * self.heat_history[-(lb+1)]\n",
    "            )\n",
    "            tin_p1 += (\n",
    "                self.model_coefficients[f\"sensible_cooling_bool_lb{lb}\"]\n",
    "                * self.cool_history[-(lb+1)]\n",
    "            )\n",
    "            tin_p1 += (\n",
    "                self.model_coefficients[f\"site_air_temp_lb{lb}\"]\n",
    "                * self.tout[t - lb]\n",
    "            )\n",
    "            tin_p1 += (\n",
    "                self.model_coefficients[f\"site_direct_solar_lb{lb}\"]\n",
    "                * self.solar[t - lb]\n",
    "            )\n",
    "            \n",
    "        #if t <11:\n",
    "        #   print(f\"Time/depth {t} Tsp {self.tsp_heat[t]} T-n {self.tin_history} Aux {self.heat_history[-1]} T+1 {tin_p1}\")\n",
    "        \n",
    "        return tin_p1\n",
    "    \n",
    "    \n",
    "    def is_terminal(self):\n",
    "        \"\"\"\n",
    "        Termination is to be based on the depth of the tree which should be the prediction horizon starting from the root\n",
    "        \"\"\"\n",
    "        pred_horizon = len(self.tout)\n",
    "        if self.depth == pred_horizon - 1 :\n",
    "            return True\n",
    "        else:\n",
    "            return False\n",
    "        \n",
    "    def get_reward(self):\n",
    "        t = self.depth\n",
    "        #print(t, self.tsp_heat[t])\n",
    "        heat_penalty = np.maximum(self.tsp_heat[t] - self.tin_history[-1],0)\n",
    "        cool_penalty = np.maximum(self.tin_history[-1] - self.tsp_cool[t],0)\n",
    "        \n",
    "        runtime_penalty = 0\n",
    "        if (self.heat_history[-1]) > 0 or (self.cool_history[-1])>0:\n",
    "            runtime_penalty = 1\n",
    "        #print(self.tsp_heat[t] - self.tin_history[-1])\n",
    "        #print(self.tin_history[-1] - self.tsp_cool[t])\n",
    "        #print(t, self.tsp_heat[t], heat_penalty, cool_penalty, runtime_penalty)\n",
    "        return (heat_penalty + cool_penalty + runtime_penalty*100) * -1"
   ]
  },
  {
   "cell_type": "code",
   "execution_count": 208,
   "metadata": {},
   "outputs": [
    {
     "name": "stdout",
     "output_type": "stream",
     "text": [
      "time: 4.8 ms\n"
     ]
    }
   ],
   "source": [
    "\n",
    "def random_policy(state):\n",
    "    discount = 0.8\n",
    "    debug_list = []\n",
    "    debug_action_list = []\n",
    "    reward_list = []\n",
    "    total_reward = 0\n",
    "    action = None\n",
    "    while not state.is_terminal():\n",
    "        try:\n",
    "            #action = random.choice(state.get_possible_actions())\n",
    "            \n",
    "            action = random.choices(state.get_possible_actions(),weights=[0.9,0.1],k=1)\n",
    "            \n",
    "            #action = np.min(state.get_possible_actions())\n",
    "            #action = 1\n",
    "            \n",
    "        except IndexError:\n",
    "            raise Exception(\"Non-terminal state has no possible actions: \" + str(state))\n",
    "        debug_action_list.append(action)\n",
    "        debug_list.append(state.tin_history[-1])\n",
    "        \n",
    "        state = state.take_action(action)\n",
    "        reward_list.append(state.get_reward())\n",
    "        total_reward += state.get_reward()\n",
    "    l = [None] * 4\n",
    "    l[-len(debug_action_list):] = debug_action_list\n",
    "    \n",
    "    print(f\"Action list: {l}, last_action: {action} reward: {state.get_reward()}, terminal {state.is_terminal()}, action_cache: {state.heat_history}\")\n",
    "    #print(len(debug_list), debug_list)\n",
    "    #print(\"Total reward\", total_reward)\n",
    "    return state.get_reward() # this reward will only be for the last state...not the accumulated stuff...hmmm\n",
    "    #return total_reward\n",
    "    #return np.sum([x*discount**i for i,x in enumerate(reward_list)])\n",
    "\n",
    "# class Node():\n",
    "#     def __init__(self, state, parent):\n",
    "#         self.state = state\n",
    "#         self.is_terminal = state.is_terminal()\n",
    "#         self.is_fully_expanded = self.is_terminal\n",
    "#         self.parent = parent\n",
    "#         self.num_visits = 0\n",
    "#         self.total_reward = 0\n",
    "#         self.children = {}\n",
    "        \n",
    "\n",
    "class mcts():\n",
    "    def __init__(self, time_limit=None, iteration_limit=None, exploration_constant=1 / math.sqrt(2),\n",
    "                 rollout_policy=random_policy):\n",
    "        \n",
    "        if time_limit != None:\n",
    "            if iteration_limit != None:\n",
    "                raise ValueError(\"Cannot have both a time limit and an iteration limit\")\n",
    "            # time taken for each MCTS search in milliseconds\n",
    "            self.time_limit = time_limit\n",
    "            self.limit_type = 'time'\n",
    "        else:\n",
    "            if iteration_limit == None:\n",
    "                raise ValueError(\"Must have either a time limit or an iteration limit\")\n",
    "            # number of iterations of the search\n",
    "            if iteration_limit < 1:\n",
    "                raise ValueError(\"Iteration limit must be greater than one\")\n",
    "            self.search_limit = iteration_limit\n",
    "            self.limit_type = 'iterations'\n",
    "        self.exploration_constant = exploration_constant\n",
    "        self.rollout = rollout_policy\n",
    "\n",
    "    def search(self, initial_state):\n",
    "        \"\"\" Search for the best next action \"\"\"\n",
    "        \n",
    "        # intialize the root \n",
    "        self.root = Node(initial_state, None)\n",
    "        \n",
    "        # bound by either a time limit or an iteration limit\n",
    "        if self.limit_type == 'time':\n",
    "            time_limit = time.time() + self.time_limit / 1000\n",
    "            while time.time() < time_limit:\n",
    "                self.execute_round()\n",
    "        else:\n",
    "            for i in range(self.search_limit):\n",
    "                self.execute_round()\n",
    "\n",
    "        best_child = self.get_best_child(self.root, 0)\n",
    "        return self.get_action(self.root, best_child)\n",
    "\n",
    "    def execute_round(self):\n",
    "        # start at the top and make a selection.. \n",
    "        node = self.select_node(self.root)\n",
    "        \n",
    "        # make the rollout based on the node we just selected..\n",
    "        reward = self.rollout(node.state) # our rollout policy is random..\n",
    "        \n",
    "        self.backpropogate(node, reward)\n",
    "\n",
    "    def select_node(self, node):\n",
    "        while not node.is_terminal:\n",
    "            if node.is_fully_expanded:\n",
    "                # if the node is full expanded take the best action\n",
    "                node = self.get_best_child(node, self.exploration_constant)\n",
    "            else:\n",
    "                # if not expanded make an expansion move\n",
    "                return self.expand(node)\n",
    "        return node\n",
    "\n",
    "    def expand(self, node):\n",
    "        actions = node.state.get_possible_actions()\n",
    "        for action in actions:\n",
    "            if action not in node.children:\n",
    "                newNode = Node(node.state.take_action(action), node)\n",
    "                node.children[action] = newNode\n",
    "                node.creation_action = action\n",
    "                if len(actions) == len(node.children):\n",
    "                    node.is_fully_expanded = True\n",
    "                return newNode\n",
    "\n",
    "        raise Exception(\"Should never reach here\")\n",
    "\n",
    "    def backpropogate(self, node, reward):\n",
    "        while node is not None:\n",
    "            node.num_visits += 1\n",
    "            node.total_reward += reward\n",
    "            node = node.parent\n",
    "\n",
    "    def get_best_child(self, node, exploration_value):\n",
    "        best_value = float(\"-inf\")\n",
    "        best_nodes = []\n",
    "        for child in node.children.values():\n",
    "            node_value = child.total_reward / child.num_visits + exploration_value * math.sqrt(\n",
    "                2 * math.log(node.num_visits) / child.num_visits)\n",
    "            if node_value > best_value:\n",
    "                best_value = node_value\n",
    "                best_nodes = [child]\n",
    "            elif node_value == best_value:\n",
    "                best_nodes.append(child)\n",
    "        return random.choice(best_nodes)\n",
    "\n",
    "    def get_action(self, root, best_child):\n",
    "        for action, node in root.children.items():\n",
    "            if node is best_child:\n",
    "                return action"
   ]
  },
  {
   "cell_type": "code",
   "execution_count": 209,
   "metadata": {},
   "outputs": [
    {
     "name": "stdout",
     "output_type": "stream",
     "text": [
      "Action list: [None, None, [1], [1]], last_action: [1] reward: -0.0, terminal True, action_cache: deque([0, 0], maxlen=2)\n",
      "Action list: [None, None, [1], [1]], last_action: [1] reward: -0.0, terminal True, action_cache: deque([0, 0], maxlen=2)\n",
      "Action list: [None, None, None, [1]], last_action: [1] reward: -0.0, terminal True, action_cache: deque([0, 0], maxlen=2)\n",
      "Action list: [None, None, None, [1]], last_action: [1] reward: -0.0, terminal True, action_cache: deque([0, 0], maxlen=2)\n",
      "Action list: [None, None, None, [1]], last_action: [1] reward: -0.0, terminal True, action_cache: deque([1, 0], maxlen=2)\n",
      "Action list: [None, None, None, [1]], last_action: [1] reward: -0.0, terminal True, action_cache: deque([1, 0], maxlen=2)\n",
      "Action list: [], last_action: None reward: -0.0, terminal True, action_cache: deque([0, 0], maxlen=2)\n",
      "Action list: [], last_action: None reward: -0.0, terminal True, action_cache: deque([1, 0], maxlen=2)\n",
      "Action list: [], last_action: None reward: -0.0, terminal True, action_cache: deque([0, 0], maxlen=2)\n",
      "Action list: [], last_action: None reward: -0.0, terminal True, action_cache: deque([1, 0], maxlen=2)\n",
      "Action list: [], last_action: None reward: -100.0, terminal True, action_cache: deque([0, 1], maxlen=2)\n",
      "Action list: [], last_action: None reward: -100.0, terminal True, action_cache: deque([1, 1], maxlen=2)\n",
      "Action list: [], last_action: None reward: -100.0, terminal True, action_cache: deque([1, 1], maxlen=2)\n",
      "Action list: [], last_action: None reward: -100.0, terminal True, action_cache: deque([0, 1], maxlen=2)\n",
      "Action list: [], last_action: None reward: -0.0, terminal True, action_cache: deque([1, 0], maxlen=2)\n",
      "Action list: [], last_action: None reward: -0.0, terminal True, action_cache: deque([1, 0], maxlen=2)\n",
      "Action list: [], last_action: None reward: -0.0, terminal True, action_cache: deque([1, 0], maxlen=2)\n",
      "Action list: [], last_action: None reward: -0.0, terminal True, action_cache: deque([1, 0], maxlen=2)\n",
      "Action list: [], last_action: None reward: -0.0, terminal True, action_cache: deque([1, 0], maxlen=2)\n",
      "Action list: [], last_action: None reward: -0.0, terminal True, action_cache: deque([1, 0], maxlen=2)\n",
      "Action list: [], last_action: None reward: -0.0, terminal True, action_cache: deque([1, 0], maxlen=2)\n",
      "Action list: [], last_action: None reward: -0.0, terminal True, action_cache: deque([1, 0], maxlen=2)\n",
      "Action list: [], last_action: None reward: -0.0, terminal True, action_cache: deque([1, 0], maxlen=2)\n",
      "Action list: [], last_action: None reward: -0.0, terminal True, action_cache: deque([1, 0], maxlen=2)\n",
      "Action list: [], last_action: None reward: -0.0, terminal True, action_cache: deque([1, 0], maxlen=2)\n",
      "time: 4.88 ms\n"
     ]
    }
   ],
   "source": [
    "h = home_state(2, model_params, tout[:4], solar[:4],heat_stp[:4] , cool_stp[:4])\n",
    "h.intialize_caches(heat_init, cool_init, temp_init)\n",
    "\n",
    "#tree = mcts(time_limit=1000*60*3) # 5 minute limit\n",
    "tree = mcts(iteration_limit=25)\n",
    "\n",
    "action = tree.search(initial_state=h)"
   ]
  },
  {
   "cell_type": "code",
   "execution_count": 210,
   "metadata": {},
   "outputs": [
    {
     "data": {
      "text/plain": [
       "3"
      ]
     },
     "execution_count": 210,
     "metadata": {},
     "output_type": "execute_result"
    },
    {
     "name": "stdout",
     "output_type": "stream",
     "text": [
      "time: 1.17 ms\n"
     ]
    }
   ],
   "source": [
    "action"
   ]
  },
  {
   "cell_type": "code",
   "execution_count": 211,
   "metadata": {},
   "outputs": [
    {
     "data": {
      "text/plain": [
       "{1: <__main__.Node at 0x7fcd51906be0>, 3: <__main__.Node at 0x7fcd51906eb8>}"
      ]
     },
     "execution_count": 211,
     "metadata": {},
     "output_type": "execute_result"
    },
    {
     "name": "stdout",
     "output_type": "stream",
     "text": [
      "time: 1.8 ms\n"
     ]
    }
   ],
   "source": [
    "tree.root.children"
   ]
  },
  {
   "cell_type": "code",
   "execution_count": 212,
   "metadata": {},
   "outputs": [
    {
     "data": {
      "text/plain": [
       "-11.11111111111111"
      ]
     },
     "execution_count": 212,
     "metadata": {},
     "output_type": "execute_result"
    },
    {
     "name": "stdout",
     "output_type": "stream",
     "text": [
      "time: 1.43 ms\n"
     ]
    }
   ],
   "source": [
    "tree.root.children[3].total_reward/tree.root.children[3].num_visits"
   ]
  },
  {
   "cell_type": "code",
   "execution_count": 213,
   "metadata": {},
   "outputs": [
    {
     "data": {
      "text/plain": [
       "(-200.0, 7)"
      ]
     },
     "execution_count": 213,
     "metadata": {},
     "output_type": "execute_result"
    },
    {
     "name": "stdout",
     "output_type": "stream",
     "text": [
      "time: 1.35 ms\n"
     ]
    }
   ],
   "source": [
    "tree.root.children[1].total_reward,tree.root.children[1].num_visits"
   ]
  },
  {
   "cell_type": "code",
   "execution_count": 214,
   "metadata": {},
   "outputs": [
    {
     "data": {
      "text/plain": [
       "(-200.0, 18)"
      ]
     },
     "execution_count": 214,
     "metadata": {},
     "output_type": "execute_result"
    },
    {
     "name": "stdout",
     "output_type": "stream",
     "text": [
      "time: 1.41 ms\n"
     ]
    }
   ],
   "source": [
    "tree.root.children[3].total_reward,tree.root.children[3].num_visits"
   ]
  },
  {
   "cell_type": "code",
   "execution_count": 215,
   "metadata": {},
   "outputs": [
    {
     "data": {
      "text/plain": [
       "4"
      ]
     },
     "execution_count": 215,
     "metadata": {},
     "output_type": "execute_result"
    },
    {
     "name": "stdout",
     "output_type": "stream",
     "text": [
      "time: 1.19 ms\n"
     ]
    }
   ],
   "source": [
    "len(h.tout)"
   ]
  },
  {
   "cell_type": "code",
   "execution_count": 229,
   "metadata": {},
   "outputs": [
    {
     "name": "stdout",
     "output_type": "stream",
     "text": [
      "time: 852 µs\n"
     ]
    }
   ],
   "source": [
    "def get_values(tree,node):\n",
    "    \n",
    "    exploration_constant=1 \n",
    "    for child in node.children.values():\n",
    "        if child != None:\n",
    "            node_value = child.total_reward / child.num_visits + exploration_constant * math.sqrt(\n",
    "                2 * math.log(node.num_visits) / child.num_visits)\n",
    "            print(\"Action:\",tree.get_action(node, child), \"Node Val:\",node_value, child.total_reward, child.num_visits)"
   ]
  },
  {
   "cell_type": "code",
   "execution_count": 230,
   "metadata": {},
   "outputs": [
    {
     "name": "stdout",
     "output_type": "stream",
     "text": [
      "***************************************************\n",
      "0 3 deque([22.0, 22.8], maxlen=2) -0.0\n",
      "Action: 1 Node Val: -27.612429714752924 -200.0 7\n",
      "Action: 3 Node Val: -10.513070251779743 -200.0 18\n",
      "None\n",
      "0/1-3 -100.0\n",
      "***************************************************\n",
      "1 3 deque([22.8, 23.192439409269966], maxlen=2) -100.0\n",
      "Action: 1 Node Val: -31.945199872435534 -100.0 3\n",
      "Action: 3 Node Val: -6.500276213224133 -100.0 14\n",
      "None\n",
      "1/2-3 -100.0\n",
      "***************************************************\n",
      "2 1 deque([23.192439409269966, 23.451229582522235], maxlen=2) -100.0\n",
      "Action: 1 Node Val: 0.6632065200744107 0.0 12\n",
      "Action: 3 Node Val: -97.70258522264035 -100.0 1\n",
      "None\n",
      "2/3-None -0.0\n",
      "time: 3.66 ms\n"
     ]
    }
   ],
   "source": [
    "\n",
    "child = tree.root\n",
    "temps = []\n",
    "actions = []\n",
    "while len(child.children) >0:\n",
    "    temps.append(child.state.tin_history[-1])\n",
    "    \n",
    "    best_child = tree.get_best_child(child, 0)\n",
    "    best_a = tree.get_action(child, best_child)\n",
    "    actions.append(best_a)\n",
    "    print(\"*\"*51)\n",
    "    print(child.state.depth, best_a, child.state.tin_history, child.state.get_reward())\n",
    "    print(get_values(tree, child))\n",
    "    \n",
    "    child = child.children[best_a]\n",
    "    print(child.name(), child.state.get_reward())\n",
    "    #child = child.\n",
    "    \n",
    "    "
   ]
  },
  {
   "cell_type": "code",
   "execution_count": 233,
   "metadata": {},
   "outputs": [
    {
     "data": {
      "text/plain": [
       "'2/3-None'"
      ]
     },
     "execution_count": 233,
     "metadata": {},
     "output_type": "execute_result"
    },
    {
     "name": "stdout",
     "output_type": "stream",
     "text": [
      "time: 2.03 ms\n"
     ]
    }
   ],
   "source": [
    "child.name()"
   ]
  },
  {
   "cell_type": "code",
   "execution_count": 234,
   "metadata": {},
   "outputs": [
    {
     "data": {
      "text/plain": [
       "[<matplotlib.lines.Line2D at 0x7fcd51e94860>]"
      ]
     },
     "execution_count": 234,
     "metadata": {},
     "output_type": "execute_result"
    },
    {
     "data": {
      "image/png": "[encoded data removed]",
      "text/plain": [
       "<Figure size 432x288 with 1 Axes>"
      ]
     },
     "metadata": {
      "needs_background": "light"
     },
     "output_type": "display_data"
    },
    {
     "name": "stdout",
     "output_type": "stream",
     "text": [
      "time: 117 ms\n"
     ]
    }
   ],
   "source": [
    "plt.plot(np.arange(1,len(temps)+1),temps)\n",
    "plt.plot(heat_stp[:10])\n",
    "plt.plot(cool_stp[:10])"
   ]
  },
  {
   "cell_type": "code",
   "execution_count": 117,
   "metadata": {},
   "outputs": [
    {
     "data": {
      "text/plain": [
       "[<matplotlib.lines.Line2D at 0x7fcd4f27c240>]"
      ]
     },
     "execution_count": 117,
     "metadata": {},
     "output_type": "execute_result"
    },
    {
     "data": {
      "image/png": "[encoded data removed]",
      "text/plain": [
       "<Figure size 432x288 with 1 Axes>"
      ]
     },
     "metadata": {
      "needs_background": "light"
     },
     "output_type": "display_data"
    },
    {
     "name": "stdout",
     "output_type": "stream",
     "text": [
      "time: 124 ms\n"
     ]
    }
   ],
   "source": [
    "plt.plot(np.arange(1,len(temps)+1),actions)"
   ]
  },
  {
   "cell_type": "markdown",
   "metadata": {},
   "source": [
    "## debug temp modelling"
   ]
  },
  {
   "cell_type": "code",
   "execution_count": 290,
   "metadata": {},
   "outputs": [
    {
     "name": "stdout",
     "output_type": "stream",
     "text": [
      "time: 2.11 ms\n"
     ]
    }
   ],
   "source": [
    "class dummy_model():\n",
    "    def __init__(self, ar_order, coefficients, tout, solar, tsp_heat, tsp_cool):\n",
    "        \n",
    "        self.ar_order = ar_order\n",
    "        self.model_coefficients = coefficients\n",
    "        \n",
    "        self.tin_history = deque(maxlen=self.ar_order)\n",
    "        \n",
    "        # this will contain lb1 and lb0\n",
    "        self.heat_history = deque(maxlen=self.ar_order)\n",
    "        self.cool_history = deque(maxlen=self.ar_order)\n",
    "        \n",
    "        self.solar = solar\n",
    "        self.tout = tout\n",
    "        self.tsp_heat = tsp_heat\n",
    "        self.tsp_cool = tsp_cool\n",
    "        \n",
    "        self.depth = 0\n",
    "        \n",
    "    \n",
    "    def intialize_caches(self, heat_hist, cool_hist, tin_hist):\n",
    "        self.tin_history.extend(tin_hist)\n",
    "        self.heat_history.extend(heat_hist)\n",
    "        self.cool_history.extend(cool_hist)\n",
    "        \n",
    "    def _predict_temp(self):\n",
    "        tin_p1 = self.model_coefficients[\"intercept\"]# add this back later[0]\n",
    "        t = self.depth \n",
    "        for lb in range(0, self.ar_order):\n",
    "            tin_p1 += (\n",
    "                self.model_coefficients[f\"zone_mean_air_temp_lb{lb}\"] * self.tin_history[-(lb+1)]\n",
    "            )\n",
    "            tin_p1 += (\n",
    "                self.model_coefficients[f\"sensible_heating_bool_lb{lb}\"]\n",
    "                * self.heat_history[-(lb+1)]\n",
    "            )\n",
    "            tin_p1 += (\n",
    "                self.model_coefficients[f\"sensible_cooling_bool_lb{lb}\"]\n",
    "                * self.cool_history[-(lb+1)]\n",
    "            )\n",
    "            tin_p1 += (\n",
    "                self.model_coefficients[f\"site_air_temp_lb{lb}\"]\n",
    "                * self.tout[t - lb]\n",
    "            )\n",
    "            tin_p1 += (\n",
    "                self.model_coefficients[f\"site_direct_solar_lb{lb}\"]\n",
    "                * self.solar[t - lb]\n",
    "            )\n",
    "#             print(lb, self.model_coefficients[f\"zone_mean_air_temp_lb{lb}\"], self.model_coefficients[f\"sensible_heating_bool_lb{lb}\"],\n",
    "#                   self.model_coefficients[f\"sensible_cooling_bool_lb{lb}\"],\n",
    "#                   self.model_coefficients[f\"site_air_temp_lb{lb}\"],\n",
    "#                   self.model_coefficients[f\"site_direct_solar_lb{lb}\"]\n",
    "#                  )\n",
    "        #self.depth += 1 \n",
    "        return tin_p1"
   ]
  },
  {
   "cell_type": "code",
   "execution_count": 291,
   "metadata": {},
   "outputs": [
    {
     "name": "stdout",
     "output_type": "stream",
     "text": [
      "time: 455 µs\n"
     ]
    }
   ],
   "source": [
    "h2 = dummy_model(2, model_params, tout, solar, heat_stp, cool_stp)\n",
    "h2.intialize_caches(heat_init, cool_init, temp_init)"
   ]
  },
  {
   "cell_type": "code",
   "execution_count": 292,
   "metadata": {},
   "outputs": [
    {
     "data": {
      "text/plain": [
       "0"
      ]
     },
     "execution_count": 292,
     "metadata": {},
     "output_type": "execute_result"
    },
    {
     "name": "stdout",
     "output_type": "stream",
     "text": [
      "time: 1.35 ms\n"
     ]
    }
   ],
   "source": [
    "h2.depth"
   ]
  },
  {
   "cell_type": "code",
   "execution_count": 293,
   "metadata": {},
   "outputs": [
    {
     "name": "stdout",
     "output_type": "stream",
     "text": [
      "deque([22.0, 22.8], maxlen=2)\n",
      "deque([22.8, 22.524416915705807], maxlen=2)\n",
      "deque([22.524416915705807, 22.267545731128784], maxlen=2)\n",
      "deque([22.267545731128784, 22.0126587869465], maxlen=2)\n",
      "deque([22.0126587869465, 21.759939623383225], maxlen=2)\n",
      "deque([21.759939623383225, 21.50931662959422], maxlen=2)\n",
      "deque([21.50931662959422, 21.26072423257396], maxlen=2)\n",
      "deque([21.26072423257396, 21.01409885460291], maxlen=2)\n",
      "deque([21.01409885460291, 20.769378909423708], maxlen=2)\n",
      "deque([20.769378909423708, 20.526504738997], maxlen=2)\n",
      "deque([20.526504738997, 20.28541855314364], maxlen=2)\n",
      "deque([20.28541855314364, 20.046064371062766], maxlen=2)\n",
      "deque([20.046064371062766, 19.75124187437886], maxlen=2)\n",
      "deque([19.75124187437886, 19.468002530547427], maxlen=2)\n",
      "deque([19.468002530547427, 19.19498963710322], maxlen=2)\n",
      "deque([19.19498963710322, 18.931898138106426], maxlen=2)\n",
      "deque([18.931898138106426, 18.678417169979994], maxlen=2)\n",
      "deque([18.678417169979994, 18.434245835860818], maxlen=2)\n",
      "deque([18.434245835860818, 18.19909265624147], maxlen=2)\n",
      "deque([18.19909265624147, 17.972675277729653], maxlen=2)\n",
      "deque([17.972675277729653, 17.754720187259647], maxlen=2)\n",
      "deque([17.754720187259647, 17.54496243530746], maxlen=2)\n",
      "deque([17.54496243530746, 17.343145367771076], maxlen=2)\n",
      "deque([17.343145367771076, 17.149020366245416], maxlen=2)\n",
      "deque([17.149020366245416, 16.97326214176782], maxlen=2)\n",
      "deque([16.97326214176782, 16.80281978289078], maxlen=2)\n",
      "deque([16.80281978289078, 16.63771672570989], maxlen=2)\n",
      "deque([16.63771672570989, 16.477782909945592], maxlen=2)\n",
      "deque([16.477782909945592, 16.322856533508332], maxlen=2)\n",
      "deque([16.322856533508332, 16.172780815593246], maxlen=2)\n",
      "deque([16.172780815593246, 16.027403884794634], maxlen=2)\n",
      "deque([16.027403884794634, 15.886578624705557], maxlen=2)\n",
      "deque([15.886578624705557, 15.750162525051973], maxlen=2)\n",
      "deque([15.750162525051973, 15.618017537477122], maxlen=2)\n",
      "deque([15.618017537477122, 15.490009935841377], maxlen=2)\n",
      "deque([15.490009935841377, 15.366010180896044], maxlen=2)\n",
      "deque([15.366010180896044, 15.256808334532789], maxlen=2)\n",
      "deque([15.256808334532789, 15.149465224587454], maxlen=2)\n",
      "deque([15.149465224587454, 15.044112527944273], maxlen=2)\n",
      "deque([15.044112527944273, 14.940685036153535], maxlen=2)\n",
      "deque([14.940685036153535, 14.83912251610317], maxlen=2)\n",
      "deque([14.83912251610317, 14.739366575897686], maxlen=2)\n",
      "deque([14.739366575897686, 14.641360652538824], maxlen=2)\n",
      "deque([14.641360652538824, 14.54504995397395], maxlen=2)\n",
      "deque([14.54504995397395, 14.450381403659222], maxlen=2)\n",
      "deque([14.450381403659222, 14.357303586847824], maxlen=2)\n",
      "deque([14.357303586847824, 14.265766698560002], maxlen=2)\n",
      "deque([14.265766698560002, 14.175722493182185], maxlen=2)\n",
      "deque([14.175722493182185, 14.069145690380417], maxlen=2)\n",
      "deque([14.069145690380417, 13.967102388389387], maxlen=2)\n",
      "deque([13.967102388389387, 13.869137914012358], maxlen=2)\n",
      "deque([13.869137914012358, 13.775129320964922], maxlen=2)\n",
      "deque([13.775129320964922, 13.684952680370142], maxlen=2)\n",
      "deque([13.684952680370142, 13.598488017034049], maxlen=2)\n",
      "deque([13.598488017034049, 13.515619110999944], maxlen=2)\n",
      "deque([13.515619110999944, 13.43623338111026], maxlen=2)\n",
      "deque([13.43623338111026, 13.360221771060491], maxlen=2)\n",
      "deque([13.360221771060491, 13.28747863903827], maxlen=2)\n",
      "deque([13.28747863903827, 13.217901650817522], maxlen=2)\n",
      "deque([13.217901650817522, 13.151391676199776], maxlen=2)\n",
      "deque([13.151391676199776, 13.10197868854786], maxlen=2)\n",
      "deque([13.10197868854786, 13.052982162866428], maxlen=2)\n",
      "deque([13.052982162866428, 13.004634777815573], maxlen=2)\n",
      "deque([13.004634777815573, 12.95691246952857], maxlen=2)\n",
      "deque([12.95691246952857, 12.909795724114542], maxlen=2)\n",
      "deque([12.909795724114542, 12.863265580871122], maxlen=2)\n",
      "deque([12.863265580871122, 12.817303673624343], maxlen=2)\n",
      "deque([12.817303673624343, 12.771892211221532], maxlen=2)\n",
      "deque([12.771892211221532, 12.727013959541294], maxlen=2)\n",
      "deque([12.727013959541294, 12.682652224052974], maxlen=2)\n",
      "deque([12.682652224052974, 12.63879083292237], maxlen=2)\n",
      "deque([12.63879083292237, 12.595414120646398], maxlen=2)\n",
      "time: 2.11 ms\n"
     ]
    }
   ],
   "source": [
    "t_list = []\n",
    "for _ in range(72):\n",
    "    print(h2.tin_history)\n",
    "    h2.depth+=1 \n",
    "    t_ = h2._predict_temp()\n",
    "    t_list.append(t_)\n",
    "    h2.tin_history.append(t_)"
   ]
  },
  {
   "cell_type": "code",
   "execution_count": 294,
   "metadata": {},
   "outputs": [
    {
     "data": {
      "text/plain": [
       "Text(0.5, 0, 'timestep')"
      ]
     },
     "execution_count": 294,
     "metadata": {},
     "output_type": "execute_result"
    },
    {
     "data": {
      "image/png": "[encoded data removed]",
      "text/plain": [
       "<Figure size 432x288 with 1 Axes>"
      ]
     },
     "metadata": {
      "needs_background": "light"
     },
     "output_type": "display_data"
    },
    {
     "name": "stdout",
     "output_type": "stream",
     "text": [
      "time: 207 ms\n"
     ]
    }
   ],
   "source": [
    "plt.plot(t_natural_decay,'--g', label=\"free cooling\")\n",
    "plt.plot(np.arange(2,74), t_list)\n",
    "plt.plot(heat_stp,label='heat_setpt',color='red')\n",
    "plt.legend()\n",
    "plt.ylabel('Temp')\n",
    "plt.xlabel('timestep')"
   ]
  },
  {
   "cell_type": "code",
   "execution_count": 282,
   "metadata": {},
   "outputs": [
    {
     "data": {
      "text/plain": [
       "73"
      ]
     },
     "execution_count": 282,
     "metadata": {},
     "output_type": "execute_result"
    },
    {
     "name": "stdout",
     "output_type": "stream",
     "text": [
      "time: 1.33 ms\n"
     ]
    }
   ],
   "source": [
    "len(solar)"
   ]
  },
  {
   "cell_type": "code",
   "execution_count": 277,
   "metadata": {},
   "outputs": [
    {
     "data": {
      "text/plain": [
       "{'site_air_temp_lb0': -0.07705090827283811,\n",
       " 'site_air_temp_lb1': 0.0868922241344876,\n",
       " 'site_direct_solar_lb0': -0.0001144392615515244,\n",
       " 'site_direct_solar_lb1': 0.0001809371597119025,\n",
       " 'sensible_heating_bool_lb0': 0.668022493564159,\n",
       " 'sensible_heating_bool_lb1': -0.1212789391296738,\n",
       " 'sensible_cooling_bool_lb0': 0.0,\n",
       " 'sensible_cooling_bool_lb1': 0.0,\n",
       " 'zone_mean_air_temp_lb0': 0.9534713323209267,\n",
       " 'zone_mean_air_temp_lb1': 0.014742719358824985,\n",
       " 'intercept': 0.40977951}"
      ]
     },
     "execution_count": 277,
     "metadata": {},
     "output_type": "execute_result"
    },
    {
     "name": "stdout",
     "output_type": "stream",
     "text": [
      "time: 3.66 ms\n"
     ]
    }
   ],
   "source": [
    "model_params"
   ]
  },
  {
   "cell_type": "code",
   "execution_count": 143,
   "metadata": {},
   "outputs": [
    {
     "data": {
      "text/plain": [
       "987654321"
      ]
     },
     "execution_count": 143,
     "metadata": {},
     "output_type": "execute_result"
    },
    {
     "name": "stdout",
     "output_type": "stream",
     "text": [
      "time: 1.44 ms\n"
     ]
    }
   ],
   "source": [
    "np.sum([x*10**i for i,x in enumerate(np.arange(1,10))])"
   ]
  },
  {
   "cell_type": "code",
   "execution_count": 166,
   "metadata": {},
   "outputs": [
    {
     "data": {
      "text/plain": [
       "[['c', 'b']]"
      ]
     },
     "execution_count": 166,
     "metadata": {},
     "output_type": "execute_result"
    },
    {
     "name": "stdout",
     "output_type": "stream",
     "text": [
      "time: 1.63 ms\n"
     ]
    }
   ],
   "source": [
    "random.choices(population=[['a','b'], ['b','a'], ['c','b']],weights=[0.2, 0.2, 0.6],k=1)"
   ]
  },
  {
   "cell_type": "code",
   "execution_count": 183,
   "metadata": {},
   "outputs": [
    {
     "ename": "ValueError",
     "evalue": "The number of weights does not match the population",
     "output_type": "error",
     "traceback": [
      "\u001b[0;31m---------------------------------------------------------------------------\u001b[0m",
      "\u001b[0;31mValueError\u001b[0m                                Traceback (most recent call last)",
      "\u001b[0;32m<ipython-input-183-f2e5298040c4>\u001b[0m in \u001b[0;36m<module>\u001b[0;34m\u001b[0m\n\u001b[0;32m----> 1\u001b[0;31m \u001b[0mrandom\u001b[0m\u001b[0;34m.\u001b[0m\u001b[0mchoices\u001b[0m\u001b[0;34m(\u001b[0m\u001b[0;34m[\u001b[0m\u001b[0;36m1\u001b[0m\u001b[0;34m,\u001b[0m\u001b[0;36m2\u001b[0m\u001b[0;34m,\u001b[0m\u001b[0;36m3\u001b[0m\u001b[0;34m]\u001b[0m\u001b[0;34m,\u001b[0m\u001b[0mweights\u001b[0m\u001b[0;34m=\u001b[0m\u001b[0;34m[\u001b[0m\u001b[0;36m0.9\u001b[0m\u001b[0;34m]\u001b[0m\u001b[0;34m,\u001b[0m\u001b[0mk\u001b[0m\u001b[0;34m=\u001b[0m\u001b[0;36m1\u001b[0m\u001b[0;34m)\u001b[0m\u001b[0;34m\u001b[0m\u001b[0;34m\u001b[0m\u001b[0m\n\u001b[0m",
      "\u001b[0;32m~/anaconda3/lib/python3.6/random.py\u001b[0m in \u001b[0;36mchoices\u001b[0;34m(self, population, weights, cum_weights, k)\u001b[0m\n\u001b[1;32m    358\u001b[0m             \u001b[0;32mraise\u001b[0m \u001b[0mTypeError\u001b[0m\u001b[0;34m(\u001b[0m\u001b[0;34m'Cannot specify both weights and cumulative weights'\u001b[0m\u001b[0;34m)\u001b[0m\u001b[0;34m\u001b[0m\u001b[0;34m\u001b[0m\u001b[0m\n\u001b[1;32m    359\u001b[0m         \u001b[0;32mif\u001b[0m \u001b[0mlen\u001b[0m\u001b[0;34m(\u001b[0m\u001b[0mcum_weights\u001b[0m\u001b[0;34m)\u001b[0m \u001b[0;34m!=\u001b[0m \u001b[0mlen\u001b[0m\u001b[0;34m(\u001b[0m\u001b[0mpopulation\u001b[0m\u001b[0;34m)\u001b[0m\u001b[0;34m:\u001b[0m\u001b[0;34m\u001b[0m\u001b[0;34m\u001b[0m\u001b[0m\n\u001b[0;32m--> 360\u001b[0;31m             \u001b[0;32mraise\u001b[0m \u001b[0mValueError\u001b[0m\u001b[0;34m(\u001b[0m\u001b[0;34m'The number of weights does not match the population'\u001b[0m\u001b[0;34m)\u001b[0m\u001b[0;34m\u001b[0m\u001b[0;34m\u001b[0m\u001b[0m\n\u001b[0m\u001b[1;32m    361\u001b[0m         \u001b[0mbisect\u001b[0m \u001b[0;34m=\u001b[0m \u001b[0m_bisect\u001b[0m\u001b[0;34m.\u001b[0m\u001b[0mbisect\u001b[0m\u001b[0;34m\u001b[0m\u001b[0;34m\u001b[0m\u001b[0m\n\u001b[1;32m    362\u001b[0m         \u001b[0mtotal\u001b[0m \u001b[0;34m=\u001b[0m \u001b[0mcum_weights\u001b[0m\u001b[0;34m[\u001b[0m\u001b[0;34m-\u001b[0m\u001b[0;36m1\u001b[0m\u001b[0;34m]\u001b[0m\u001b[0;34m\u001b[0m\u001b[0;34m\u001b[0m\u001b[0m\n",
      "\u001b[0;31mValueError\u001b[0m: The number of weights does not match the population"
     ]
    },
    {
     "name": "stdout",
     "output_type": "stream",
     "text": [
      "time: 21.5 ms\n"
     ]
    }
   ],
   "source": [
    "random.choices([1,2,3],weights=[0.9],k=1)"
   ]
  },
  {
   "cell_type": "code",
   "execution_count": 47,
   "metadata": {},
   "outputs": [
    {
     "data": {
      "text/plain": [
       "[None, None, None, None, None, 3, 4, 5, 6, 7]"
      ]
     },
     "execution_count": 47,
     "metadata": {},
     "output_type": "execute_result"
    },
    {
     "name": "stdout",
     "output_type": "stream",
     "text": [
      "time: 3.28 ms\n"
     ]
    }
   ],
   "source": [
    "temp = np.arange(3,8)\n",
    "l = [None] * 10\n",
    "l[-len(temp):] = temp\n",
    "\n",
    "l"
   ]
  },
  {
   "cell_type": "code",
   "execution_count": null,
   "metadata": {},
   "outputs": [],
   "source": []
  }
 ],
 "metadata": {
  "kernelspec": {
   "display_name": "Python 3",
   "language": "python",
   "name": "python3"
  },
  "language_info": {
   "codemirror_mode": {
    "name": "ipython",
    "version": 3
   },
   "file_extension": ".py",
   "mimetype": "text/x-python",
   "name": "python",
   "nbconvert_exporter": "python",
   "pygments_lexer": "ipython3",
   "version": "3.6.10"
  }
 },
 "nbformat": 4,
 "nbformat_minor": 4
}
